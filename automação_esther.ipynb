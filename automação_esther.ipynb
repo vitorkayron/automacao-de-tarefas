{
 "cells": [
  {
   "cell_type": "code",
   "execution_count": 20,
   "id": "329b4dc6",
   "metadata": {},
   "outputs": [],
   "source": [
    "import pyautogui\n",
    "import time\n",
    "\n",
    "pyautogui.PAUSE = 2\n",
    "\n",
    "#abrir o vscode\n",
    "pyautogui.hotkey('win', 'd')\n",
    "pyautogui.doubleClick(x=1317, y=27)\n",
    "time.sleep(3)\n",
    "#abrir word e entrar no arquivo anotações\n",
    "pyautogui.hotkey('win' , 'd')\n",
    "pyautogui.doubleClick(x=1316, y=134)\n",
    "time.sleep(3)\n",
    "pyautogui.click(x=285, y=370)\n",
    "time.sleep(0.5)\n",
    "pyautogui.write('anotacoes')\n",
    "pyautogui.press('enter')\n",
    "#abrir google no link do video\n",
    "time.sleep(0.5)\n",
    "pyautogui.hotkey('win', 'd')\n",
    "pyautogui.hotkey('ctrl', 'alt', 'p')\n",
    "pyautogui.click(x=438, y=451)\n",
    "\n",
    "\n",
    "\n",
    "\n",
    "\n",
    "\n",
    "\n",
    "\n",
    "\n",
    "\n",
    "\n",
    "\n",
    "\n"
   ]
  },
  {
   "cell_type": "code",
   "execution_count": null,
   "id": "b485f4fa",
   "metadata": {},
   "outputs": [],
   "source": []
  },
  {
   "cell_type": "code",
   "execution_count": null,
   "id": "3b423a26",
   "metadata": {},
   "outputs": [],
   "source": []
  }
 ],
 "metadata": {
  "kernelspec": {
   "display_name": "Python 3 (ipykernel)",
   "language": "python",
   "name": "python3"
  },
  "language_info": {
   "codemirror_mode": {
    "name": "ipython",
    "version": 3
   },
   "file_extension": ".py",
   "mimetype": "text/x-python",
   "name": "python",
   "nbconvert_exporter": "python",
   "pygments_lexer": "ipython3",
   "version": "3.9.12"
  }
 },
 "nbformat": 4,
 "nbformat_minor": 5
}
